{
 "cells": [
  {
   "cell_type": "code",
   "execution_count": 1,
   "id": "f4951c78",
   "metadata": {
    "_cell_guid": "b1076dfc-b9ad-4769-8c92-a6c4dae69d19",
    "_uuid": "8f2839f25d086af736a60e9eeb907d3b93b6e0e5",
    "execution": {
     "iopub.execute_input": "2023-05-17T11:44:52.152226Z",
     "iopub.status.busy": "2023-05-17T11:44:52.151804Z",
     "iopub.status.idle": "2023-05-17T11:44:52.214170Z",
     "shell.execute_reply": "2023-05-17T11:44:52.213129Z"
    },
    "papermill": {
     "duration": 0.092935,
     "end_time": "2023-05-17T11:44:52.217067",
     "exception": false,
     "start_time": "2023-05-17T11:44:52.124132",
     "status": "completed"
    },
    "tags": []
   },
   "outputs": [
    {
     "name": "stdout",
     "output_type": "stream",
     "text": [
      "/kaggle/input/natural-language-process-nlp/gender-classifier.csv\n",
      "/kaggle/input/linearregressiondataset3/linear-regression-dataset.csv\n",
      "/kaggle/input/multiplelinearregressiondataset/multiple-linear-regression-dataset.csv\n",
      "/kaggle/input/decisiontreeregressiondataset/decision-tree-regression-dataset.csv\n",
      "/kaggle/input/polynomialregressioncsv/polynomial-regression.csv\n",
      "/kaggle/input/support-vector-regression/maaslar.csv\n",
      "/kaggle/input/classification/data.csv\n",
      "/kaggle/input/ninechapter-breastcancer/breastCancer.csv\n",
      "/kaggle/input/randomforestregressiondataset/random-forest-regression-dataset.csv\n",
      "/kaggle/input/movielens-20m-dataset/rating.csv\n",
      "/kaggle/input/movielens-20m-dataset/link.csv\n",
      "/kaggle/input/movielens-20m-dataset/genome_tags.csv\n",
      "/kaggle/input/movielens-20m-dataset/genome_scores.csv\n",
      "/kaggle/input/movielens-20m-dataset/tag.csv\n",
      "/kaggle/input/movielens-20m-dataset/movie.csv\n"
     ]
    }
   ],
   "source": [
    "# This Python 3 environment comes with many helpful analytics libraries installed\n",
    "# It is defined by the kaggle/python Docker image: https://github.com/kaggle/docker-python\n",
    "# For example, here's several helpful packages to load\n",
    "\n",
    "import numpy as np # linear algebra\n",
    "import pandas as pd # data processing, CSV file I/O (e.g. pd.read_csv)\n",
    "\n",
    "# Input data files are available in the read-only \"../input/\" directory\n",
    "# For example, running this (by clicking run or pressing Shift+Enter) will list all files under the input directory\n",
    "\n",
    "import os\n",
    "for dirname, _, filenames in os.walk('/kaggle/input'):\n",
    "    for filename in filenames:\n",
    "        print(os.path.join(dirname, filename))\n",
    "\n",
    "# You can write up to 20GB to the current directory (/kaggle/working/) that gets preserved as output when you create a version using \"Save & Run All\" \n",
    "# You can also write temporary files to /kaggle/temp/, but they won't be saved outside of the current session"
   ]
  },
  {
   "cell_type": "markdown",
   "id": "43c3879f",
   "metadata": {
    "papermill": {
     "duration": 0.025171,
     "end_time": "2023-05-17T11:44:52.268832",
     "exception": false,
     "start_time": "2023-05-17T11:44:52.243661",
     "status": "completed"
    },
    "tags": []
   },
   "source": [
    "I have tried and complied from the courses of [DATAI Team](https://www.udemy.com/user/datai-team/) (Language of the courses is Turkish: [Machine Learning ve Python: A'dan Z'ye Makine Öğrenmesi](https://www.udemy.com/machine-learning-ve-python-adan-zye-makine-ogrenmesi-4). Finally , thanks for [Bülent Siyah](https://www.kaggle.com/bulentsiyah). He prepared all data about our courses datas and important content."
   ]
  },
  {
   "cell_type": "code",
   "execution_count": 2,
   "id": "a428eb0a",
   "metadata": {
    "execution": {
     "iopub.execute_input": "2023-05-17T11:44:52.321660Z",
     "iopub.status.busy": "2023-05-17T11:44:52.321233Z",
     "iopub.status.idle": "2023-05-17T11:44:52.328250Z",
     "shell.execute_reply": "2023-05-17T11:44:52.326828Z"
    },
    "papermill": {
     "duration": 0.036111,
     "end_time": "2023-05-17T11:44:52.330391",
     "exception": true,
     "start_time": "2023-05-17T11:44:52.294280",
     "status": "failed"
    },
    "tags": []
   },
   "outputs": [
    {
     "ename": "SyntaxError",
     "evalue": "incomplete input (3697392057.py, line 5)",
     "output_type": "error",
     "traceback": [
      "\u001b[0;36m  Cell \u001b[0;32mIn[2], line 5\u001b[0;36m\u001b[0m\n\u001b[0;31m    data = pd.read_csv(\"/kaggle/input/linearregressiondataset3/linear-regression-dataset.csv\"\u001b[0m\n\u001b[0m                                                                                             ^\u001b[0m\n\u001b[0;31mSyntaxError\u001b[0m\u001b[0;31m:\u001b[0m incomplete input\n"
     ]
    }
   ],
   "source": [
    "import pandas as pd \n",
    "import mathplotlib.pyplot as plt \n",
    "import math\n",
    "\n",
    "data = pd.read_csv(\"/kaggle/input/linearregressiondataset3/linear-regression-dataset.csv\"\n"
   ]
  },
  {
   "cell_type": "markdown",
   "id": "a460115a",
   "metadata": {
    "papermill": {
     "duration": null,
     "end_time": null,
     "exception": null,
     "start_time": null,
     "status": "pending"
    },
    "tags": []
   },
   "source": [
    "# **Content**\n",
    "\n",
    "## Regression\n",
    "\n",
    "* [Linear Regression](#1.)\n",
    "* [Multiple Linear Regression](#2.)\n",
    "* [Polynomial Linear Regression](#3.)\n",
    "* [Support Vector Regression](#4.)\n",
    "* [Decision Tree Regression](#5.)\n",
    "* [Random Forest Regression](#6.)\n",
    "\n",
    "![](https://iili.io/J1bpse.md.png)\n",
    "\n",
    "\n",
    "\n",
    "\n",
    "## Classification\n",
    "\n",
    "* [K-Nearest Neighbour (KNN) Classification](#7.)\n",
    "* [Support Vector Machine (SVM) Classification](#8.)\n",
    "* [Naive Bayes Classification](#9.)\n",
    "* [Decision Tree Classification](#10.)\n",
    "* [Random Forest Classification](#11.)\n",
    "\n",
    "![](https://iili.io/J1bmX9.png)\n",
    "\n",
    "\n",
    "\n",
    "\n",
    "\n",
    "## Clustering\n",
    "\n",
    "* [K-Means Clustering](#12.)\n",
    "* [Hierarchical Clustering](#13.)\n",
    "\n",
    "\n",
    "![](https://iili.io/J1m9qu.png)\n",
    "\n",
    "\n",
    "\n",
    "\n",
    "## Other Content\n",
    "\n",
    "* [Natural Language Process (NLP)](#14.)\n",
    "* [Principal Component Analysis (PCA)](#15.)\n",
    "* [Model Selection](#16.)\n",
    "* [Recommendation Systems](#17.)\n",
    "\n"
   ]
  },
  {
   "cell_type": "markdown",
   "id": "0d19239c",
   "metadata": {
    "papermill": {
     "duration": null,
     "end_time": null,
     "exception": null,
     "start_time": null,
     "status": "pending"
    },
    "tags": []
   },
   "source": [
    "# Regression\n",
    "<a class=\"anchor\" id=\"1.\"></a> \n",
    "# Linear Regression\n"
   ]
  },
  {
   "cell_type": "code",
   "execution_count": null,
   "id": "84f41a09",
   "metadata": {
    "execution": {
     "iopub.execute_input": "2023-05-17T11:11:34.019498Z",
     "iopub.status.busy": "2023-05-17T11:11:34.019104Z",
     "iopub.status.idle": "2023-05-17T11:11:34.045540Z",
     "shell.execute_reply": "2023-05-17T11:11:34.044316Z",
     "shell.execute_reply.started": "2023-05-17T11:11:34.019469Z"
    },
    "papermill": {
     "duration": null,
     "end_time": null,
     "exception": null,
     "start_time": null,
     "status": "pending"
    },
    "tags": []
   },
   "outputs": [],
   "source": [
    "import pandas as pd\n",
    "import matplotlib.pyplot as plt\n",
    "import math\n",
    "\n",
    "data = pd.read_csv(\"/kaggle/input/linearregressiondataset3/linear-regression-dataset.csv\")"
   ]
  },
  {
   "cell_type": "code",
   "execution_count": null,
   "id": "67775046",
   "metadata": {
    "execution": {
     "iopub.execute_input": "2023-05-17T11:11:35.640793Z",
     "iopub.status.busy": "2023-05-17T11:11:35.640145Z",
     "iopub.status.idle": "2023-05-17T11:11:35.650507Z",
     "shell.execute_reply": "2023-05-17T11:11:35.649791Z",
     "shell.execute_reply.started": "2023-05-17T11:11:35.640746Z"
    },
    "papermill": {
     "duration": null,
     "end_time": null,
     "exception": null,
     "start_time": null,
     "status": "pending"
    },
    "tags": []
   },
   "outputs": [],
   "source": [
    "data.head()"
   ]
  },
  {
   "cell_type": "code",
   "execution_count": null,
   "id": "4a23d6b1",
   "metadata": {
    "execution": {
     "iopub.status.busy": "2023-05-17T11:03:51.150796Z",
     "iopub.status.idle": "2023-05-17T11:03:51.151365Z",
     "shell.execute_reply": "2023-05-17T11:03:51.151205Z",
     "shell.execute_reply.started": "2023-05-17T11:03:51.151185Z"
    },
    "papermill": {
     "duration": null,
     "end_time": null,
     "exception": null,
     "start_time": null,
     "status": "pending"
    },
    "tags": []
   },
   "outputs": [],
   "source": [
    "data.info()"
   ]
  },
  {
   "cell_type": "code",
   "execution_count": null,
   "id": "d2bcd8b9",
   "metadata": {
    "execution": {
     "iopub.status.busy": "2023-05-17T11:03:51.152343Z",
     "iopub.status.idle": "2023-05-17T11:03:51.153172Z",
     "shell.execute_reply": "2023-05-17T11:03:51.152711Z",
     "shell.execute_reply.started": "2023-05-17T11:03:51.152692Z"
    },
    "papermill": {
     "duration": null,
     "end_time": null,
     "exception": null,
     "start_time": null,
     "status": "pending"
    },
    "tags": []
   },
   "outputs": [],
   "source": [
    "plt.scatter(data.deneyim,data.maas)\n",
    "plt.xlabel(\"deneyim\")\n",
    "plt.ylabel(\"maas\")\n",
    "plt.show"
   ]
  },
  {
   "cell_type": "code",
   "execution_count": null,
   "id": "16a28318",
   "metadata": {
    "execution": {
     "iopub.status.busy": "2023-05-17T11:03:51.154846Z",
     "iopub.status.idle": "2023-05-17T11:03:51.155943Z",
     "shell.execute_reply": "2023-05-17T11:03:51.155654Z",
     "shell.execute_reply.started": "2023-05-17T11:03:51.155626Z"
    },
    "papermill": {
     "duration": null,
     "end_time": null,
     "exception": null,
     "start_time": null,
     "status": "pending"
    },
    "tags": []
   },
   "outputs": [],
   "source": [
    "#%% Linear Regression\n",
    "\n",
    "from sklearn.linear_model import LinearRegression\n",
    "linear_reg = LinearRegression()\n",
    "\n",
    "x = data.deneyim.values.reshape(-1,1)\n",
    "y = data.maas.values.reshape(-1,1)\n",
    "\n",
    "linear_reg.fit(x,y)\n",
    "\n",
    "print('R sq: ', linear_reg.score(x,y))\n",
    "print('Correlation: ', math.sqrt(linear_reg.score(x,y)))\n",
    "\n"
   ]
  },
  {
   "cell_type": "code",
   "execution_count": null,
   "id": "43569096",
   "metadata": {
    "execution": {
     "iopub.status.busy": "2023-05-17T11:03:51.157636Z",
     "iopub.status.idle": "2023-05-17T11:03:51.158219Z",
     "shell.execute_reply": "2023-05-17T11:03:51.157971Z",
     "shell.execute_reply.started": "2023-05-17T11:03:51.157944Z"
    },
    "papermill": {
     "duration": null,
     "end_time": null,
     "exception": null,
     "start_time": null,
     "status": "pending"
    },
    "tags": []
   },
   "outputs": [],
   "source": [
    "import numpy as np\n",
    "\n",
    "#Denklemimiz b0(intercept) , b1(coefficent)\n",
    "print(\"Coefficient for X: \", linear_reg.coef_)\n",
    "print(\"Intercept for X: \", linear_reg.intercept_)\n",
    "print(\"Regression line is: y = \" + str(linear_reg.intercept_[0]) + \" + (x * \" + str(linear_reg.coef_[0][0]) + \")\")\n",
    "\n",
    "# maas = 1663 + 1138*deneyim \n",
    "maas_yeni = 1663 + 1138*11\n",
    "print(maas_yeni)\n",
    "\n",
    "# Deneyimi 11 yıl olan birinin alacağı maaş\n",
    "array = np.array([11]).reshape(-1,1)\n",
    "print(linear_reg.predict(array))"
   ]
  },
  {
   "cell_type": "code",
   "execution_count": null,
   "id": "124537f8",
   "metadata": {
    "execution": {
     "iopub.status.busy": "2023-05-17T11:03:51.159721Z",
     "iopub.status.idle": "2023-05-17T11:03:51.160543Z",
     "shell.execute_reply": "2023-05-17T11:03:51.160303Z",
     "shell.execute_reply.started": "2023-05-17T11:03:51.160276Z"
    },
    "papermill": {
     "duration": null,
     "end_time": null,
     "exception": null,
     "start_time": null,
     "status": "pending"
    },
    "tags": []
   },
   "outputs": [],
   "source": [
    "# visualize line\n",
    "array = np.array([0,1,2,3,4,5,6,7,8,9,10,11,12,13,14,15]).reshape(-1,1)  # deneyim\n",
    "\n",
    "plt.scatter(x,y)\n",
    "#plt.show()\n",
    "y_head = linear_reg.predict(array)  # maas\n",
    "plt.plot(array, y_head,color = \"red\")"
   ]
  },
  {
   "cell_type": "code",
   "execution_count": null,
   "id": "27320bac",
   "metadata": {
    "execution": {
     "iopub.execute_input": "2023-05-17T11:03:51.362704Z",
     "iopub.status.busy": "2023-05-17T11:03:51.361606Z",
     "iopub.status.idle": "2023-05-17T11:03:51.389557Z",
     "shell.execute_reply": "2023-05-17T11:03:51.385827Z",
     "shell.execute_reply.started": "2023-05-17T11:03:51.362665Z"
    },
    "papermill": {
     "duration": null,
     "end_time": null,
     "exception": null,
     "start_time": null,
     "status": "pending"
    },
    "tags": []
   },
   "outputs": [],
   "source": [
    "y_head = linear_reg.predict(x)  # maas\n",
    "from sklearn.metrics import r2_score\n",
    "print(\"r_square score: \", r2_score(y,y_head))"
   ]
  },
  {
   "cell_type": "markdown",
   "id": "57d79266",
   "metadata": {
    "papermill": {
     "duration": null,
     "end_time": null,
     "exception": null,
     "start_time": null,
     "status": "pending"
    },
    "tags": []
   },
   "source": []
  },
  {
   "cell_type": "markdown",
   "id": "8f7615be",
   "metadata": {
    "papermill": {
     "duration": null,
     "end_time": null,
     "exception": null,
     "start_time": null,
     "status": "pending"
    },
    "tags": []
   },
   "source": [
    "<a class=\"anchor\" id=\"2.\"></a> \n",
    "# Multiple Linear Regression**"
   ]
  },
  {
   "cell_type": "code",
   "execution_count": null,
   "id": "71f978c2",
   "metadata": {
    "execution": {
     "iopub.status.busy": "2023-05-17T11:03:51.391144Z",
     "iopub.status.idle": "2023-05-17T11:03:51.391949Z",
     "shell.execute_reply": "2023-05-17T11:03:51.391736Z",
     "shell.execute_reply.started": "2023-05-17T11:03:51.391712Z"
    },
    "papermill": {
     "duration": null,
     "end_time": null,
     "exception": null,
     "start_time": null,
     "status": "pending"
    },
    "tags": []
   },
   "outputs": [],
   "source": [
    "import pandas as pd\n",
    "import numpy as np\n",
    "from sklearn.linear_model import LinearRegression\n",
    "\n",
    "data = pd.read_csv(\"/kaggle/input/multiplelinearregressiondataset/multiple-linear-regression-dataset.csv\")\n",
    "print(data.info())\n",
    "print(data.head())\n",
    "#print(data.describe())"
   ]
  },
  {
   "cell_type": "code",
   "execution_count": null,
   "id": "32c87c02",
   "metadata": {
    "execution": {
     "iopub.status.busy": "2023-05-17T11:03:51.393002Z",
     "iopub.status.idle": "2023-05-17T11:03:51.393938Z",
     "shell.execute_reply": "2023-05-17T11:03:51.393718Z",
     "shell.execute_reply.started": "2023-05-17T11:03:51.393696Z"
    },
    "papermill": {
     "duration": null,
     "end_time": null,
     "exception": null,
     "start_time": null,
     "status": "pending"
    },
    "tags": []
   },
   "outputs": [],
   "source": [
    "x = data.iloc[:,[0,2]].values\n",
    "y = data.maas.values.reshape(-1,1)\n",
    "\n",
    "multiple_linear_regression = LinearRegression()\n",
    "multiple_linear_regression.fit(x,y)\n",
    "\n",
    "print(\"b0: \",multiple_linear_regression.intercept_)\n",
    "print(\"b1: \", multiple_linear_regression.coef_)\n",
    "\n",
    "#predict\n",
    "x_ = np.array([[10,35],[5,35]])\n",
    "multiple_linear_regression.predict(x_)\n",
    "\n",
    "y_head = multiple_linear_regression.predict(x) \n",
    "from sklearn.metrics import r2_score\n",
    "print(\"r_square score: \", r2_score(y,y_head))"
   ]
  },
  {
   "cell_type": "markdown",
   "id": "1506b87e",
   "metadata": {
    "papermill": {
     "duration": null,
     "end_time": null,
     "exception": null,
     "start_time": null,
     "status": "pending"
    },
    "tags": []
   },
   "source": [
    "<a class=\"anchor\" id=\"3.\"></a> \n",
    "# Polynomial Linear Regression"
   ]
  },
  {
   "cell_type": "code",
   "execution_count": null,
   "id": "c1bb7f00",
   "metadata": {
    "execution": {
     "iopub.status.busy": "2023-05-17T11:03:51.395216Z",
     "iopub.status.idle": "2023-05-17T11:03:51.396285Z",
     "shell.execute_reply": "2023-05-17T11:03:51.396081Z",
     "shell.execute_reply.started": "2023-05-17T11:03:51.396051Z"
    },
    "papermill": {
     "duration": null,
     "end_time": null,
     "exception": null,
     "start_time": null,
     "status": "pending"
    },
    "tags": []
   },
   "outputs": [],
   "source": [
    "import pandas as pd\n",
    "import matplotlib.pyplot as plt\n",
    "\n",
    "data = pd.read_csv(\"/kaggle/input/polynomialregressioncsv/polynomial-regression.csv\")\n",
    "print(data.info())\n",
    "print(data.head())\n",
    "#print(data.describe())"
   ]
  },
  {
   "cell_type": "code",
   "execution_count": null,
   "id": "3ae875e8",
   "metadata": {
    "execution": {
     "iopub.status.busy": "2023-05-17T11:03:51.397403Z",
     "iopub.status.idle": "2023-05-17T11:03:51.397892Z",
     "shell.execute_reply": "2023-05-17T11:03:51.397713Z",
     "shell.execute_reply.started": "2023-05-17T11:03:51.397695Z"
    },
    "papermill": {
     "duration": null,
     "end_time": null,
     "exception": null,
     "start_time": null,
     "status": "pending"
    },
    "tags": []
   },
   "outputs": [],
   "source": [
    "x = data.araba_fiyat.values.reshape(-1,1)\n",
    "y = data.araba_max_hiz.values.reshape(-1,1)\n",
    "\n",
    "plt.scatter(x,y)\n",
    "plt.xlabel(\"araba_max_hiz\")\n",
    "plt.ylabel(\"araba_fiyat\")\n",
    "plt.show()"
   ]
  },
  {
   "cell_type": "code",
   "execution_count": null,
   "id": "369041df",
   "metadata": {
    "execution": {
     "iopub.status.busy": "2023-05-17T11:03:51.399585Z",
     "iopub.status.idle": "2023-05-17T11:03:51.399990Z",
     "shell.execute_reply": "2023-05-17T11:03:51.399794Z",
     "shell.execute_reply.started": "2023-05-17T11:03:51.399776Z"
    },
    "papermill": {
     "duration": null,
     "end_time": null,
     "exception": null,
     "start_time": null,
     "status": "pending"
    },
    "tags": []
   },
   "outputs": [],
   "source": [
    "# polynomial regression =  y = b0 + b1*x +b2*x^2 + b3*x^3 + ... + bn*x^n\n",
    "from sklearn.preprocessing import PolynomialFeatures\n",
    "from sklearn.linear_model import LinearRegression\n",
    "\n",
    "polynominal_regression = PolynomialFeatures(degree=4)\n",
    "x_polynomial = polynominal_regression.fit_transform(x,y)\n",
    "\n",
    "#fit\n",
    "linear_regression = LinearRegression()\n",
    "linear_regression.fit(x_polynomial,y)\n",
    "\n",
    "#\n",
    "y_head2 = linear_regression.predict(x_polynomial)\n",
    "\n",
    "plt.plot(x,y_head2,color=\"green\",label = \"poly\" )\n",
    "plt.legend()\n",
    "plt.scatter(x,y)\n",
    "plt.xlabel(\"araba_max_hiz\")\n",
    "plt.ylabel(\"araba_fiyat\")\n",
    "plt.show()\n",
    "\n",
    "from sklearn.metrics import r2_score\n",
    "print(\"r_square score: \", r2_score(y,y_head2))"
   ]
  },
  {
   "cell_type": "markdown",
   "id": "0fb510da",
   "metadata": {
    "papermill": {
     "duration": null,
     "end_time": null,
     "exception": null,
     "start_time": null,
     "status": "pending"
    },
    "tags": []
   },
   "source": [
    "\n",
    "<a class=\"anchor\" id=\"4.\"></a> \n",
    "# Support Vector Regression"
   ]
  },
  {
   "cell_type": "code",
   "execution_count": null,
   "id": "845b283e",
   "metadata": {
    "execution": {
     "iopub.status.busy": "2023-05-17T11:03:51.401166Z",
     "iopub.status.idle": "2023-05-17T11:03:51.401524Z",
     "shell.execute_reply": "2023-05-17T11:03:51.401369Z",
     "shell.execute_reply.started": "2023-05-17T11:03:51.401351Z"
    },
    "papermill": {
     "duration": null,
     "end_time": null,
     "exception": null,
     "start_time": null,
     "status": "pending"
    },
    "tags": []
   },
   "outputs": [],
   "source": [
    "import pandas as pd\n",
    "import matplotlib.pyplot as plt\n",
    "\n",
    "data = pd.read_csv(\"/kaggle/input/support-vector-regression/maaslar.csv\")\n",
    "print(data.info())\n",
    "print(data.head())\n",
    "#print(data.describe())"
   ]
  },
  {
   "cell_type": "code",
   "execution_count": null,
   "id": "fc51af6e",
   "metadata": {
    "execution": {
     "iopub.status.busy": "2023-05-17T11:03:51.403048Z",
     "iopub.status.idle": "2023-05-17T11:03:51.403785Z",
     "shell.execute_reply": "2023-05-17T11:03:51.403605Z",
     "shell.execute_reply.started": "2023-05-17T11:03:51.403583Z"
    },
    "papermill": {
     "duration": null,
     "end_time": null,
     "exception": null,
     "start_time": null,
     "status": "pending"
    },
    "tags": []
   },
   "outputs": [],
   "source": [
    "x = data.iloc[:,1:2].values\n",
    "y = data.iloc[:,2:].values\n",
    "\n",
    "plt.scatter(x,y)\n",
    "plt.xlabel(\"Egitim Seviyesi\")\n",
    "plt.ylabel(\"Maas\")\n",
    "plt.show"
   ]
  },
  {
   "cell_type": "code",
   "execution_count": null,
   "id": "787d89f7",
   "metadata": {
    "execution": {
     "iopub.status.busy": "2023-05-17T11:03:51.405181Z",
     "iopub.status.idle": "2023-05-17T11:03:51.405934Z",
     "shell.execute_reply": "2023-05-17T11:03:51.405728Z",
     "shell.execute_reply.started": "2023-05-17T11:03:51.405707Z"
    },
    "papermill": {
     "duration": null,
     "end_time": null,
     "exception": null,
     "start_time": null,
     "status": "pending"
    },
    "tags": []
   },
   "outputs": [],
   "source": [
    "#Verilerin ölçeklenmesi\n",
    "from sklearn.preprocessing import StandardScaler\n",
    "sc1 = StandardScaler()\n",
    "x_olcekli = sc1.fit_transform(x)\n",
    "sc2 = StandardScaler()\n",
    "y_olcekli = sc2.fit_transform(y)\n",
    "\n",
    "#SVR\n",
    "from sklearn.svm import SVR\n",
    "\n",
    "svr_reg = SVR(kernel = 'rbf')\n",
    "svr_reg.fit(x_olcekli,y_olcekli)\n",
    "\n",
    "y_head = svr_reg.predict(x_olcekli)\n",
    "\n",
    "#visualize line\n",
    "plt.plot(x_olcekli,y_head,color= \"green\",label = \"SVR\")\n",
    "plt.legend()\n",
    "plt.scatter(x_olcekli,y_olcekli,color='red')\n",
    "plt.show()\n",
    "\n",
    "print('R sq: ', svr_reg.score(x_olcekli, y_olcekli))"
   ]
  },
  {
   "cell_type": "markdown",
   "id": "a90d7596",
   "metadata": {
    "papermill": {
     "duration": null,
     "end_time": null,
     "exception": null,
     "start_time": null,
     "status": "pending"
    },
    "tags": []
   },
   "source": [
    "\n",
    "<a class=\"anchor\" id=\"5.\"></a> \n",
    "# Decision Tree Regression"
   ]
  },
  {
   "cell_type": "code",
   "execution_count": null,
   "id": "e2e696db",
   "metadata": {
    "execution": {
     "iopub.status.busy": "2023-05-17T11:03:51.407400Z",
     "iopub.status.idle": "2023-05-17T11:03:51.408141Z",
     "shell.execute_reply": "2023-05-17T11:03:51.407956Z",
     "shell.execute_reply.started": "2023-05-17T11:03:51.407936Z"
    },
    "papermill": {
     "duration": null,
     "end_time": null,
     "exception": null,
     "start_time": null,
     "status": "pending"
    },
    "tags": []
   },
   "outputs": [],
   "source": [
    "import pandas as pd\n",
    "import matplotlib.pyplot as plt\n",
    "import numpy as np\n",
    "\n",
    "data = pd.read_csv(\"/kaggle/input/decisiontreeregressiondataset/decision-tree-regression-dataset.csv\", header=None)\n",
    "print(data.info())\n",
    "print(data.head())\n",
    "#print(data.describe())"
   ]
  },
  {
   "cell_type": "code",
   "execution_count": null,
   "id": "7871ff9b",
   "metadata": {
    "execution": {
     "iopub.status.busy": "2023-05-17T11:03:51.409461Z",
     "iopub.status.idle": "2023-05-17T11:03:51.410125Z",
     "shell.execute_reply": "2023-05-17T11:03:51.409944Z",
     "shell.execute_reply.started": "2023-05-17T11:03:51.409923Z"
    },
    "papermill": {
     "duration": null,
     "end_time": null,
     "exception": null,
     "start_time": null,
     "status": "pending"
    },
    "tags": []
   },
   "outputs": [],
   "source": [
    "x = data.iloc[:,[0]].values.reshape(-1,1)\n",
    "y = data.iloc[:,[1]].values.reshape(-1,1)"
   ]
  },
  {
   "cell_type": "code",
   "execution_count": null,
   "id": "38a55eb6",
   "metadata": {
    "execution": {
     "iopub.status.busy": "2023-05-17T11:03:51.411269Z",
     "iopub.status.idle": "2023-05-17T11:03:51.412017Z",
     "shell.execute_reply": "2023-05-17T11:03:51.411802Z",
     "shell.execute_reply.started": "2023-05-17T11:03:51.411781Z"
    },
    "papermill": {
     "duration": null,
     "end_time": null,
     "exception": null,
     "start_time": null,
     "status": "pending"
    },
    "tags": []
   },
   "outputs": [],
   "source": [
    "#%%  decision tree regression\n",
    "from sklearn.tree import DecisionTreeRegressor\n",
    "tree_reg = DecisionTreeRegressor()\n",
    "tree_reg.fit(x,y)\n",
    "\n",
    "print(tree_reg.predict(np.array([5.5]).reshape(-1,1)))"
   ]
  },
  {
   "cell_type": "code",
   "execution_count": null,
   "id": "72e0b877",
   "metadata": {
    "execution": {
     "iopub.status.busy": "2023-05-17T11:03:51.413239Z",
     "iopub.status.idle": "2023-05-17T11:03:51.413965Z",
     "shell.execute_reply": "2023-05-17T11:03:51.413762Z",
     "shell.execute_reply.started": "2023-05-17T11:03:51.413740Z"
    },
    "papermill": {
     "duration": null,
     "end_time": null,
     "exception": null,
     "start_time": null,
     "status": "pending"
    },
    "tags": []
   },
   "outputs": [],
   "source": [
    "x_ = np.arange(min(x),max(x),0.01).reshape(-1,1)\n",
    "#print(x)\n",
    "y_head = tree_reg.predict(x_)\n",
    "#print(y_head)\n",
    "\n",
    "# %% visualize\n",
    "plt.scatter(x,y,color=\"red\")\n",
    "plt.plot(x_,y_head,color = \"green\")\n",
    "plt.xlabel(\"tribun level\")\n",
    "plt.ylabel(\"ucret\")\n",
    "plt.show()\n",
    "\n",
    "y_head = tree_reg.predict(x)\n",
    "#from sklearn.metrics import r2_score\n",
    "print(\"r_square score: \", r2_score(y,y_head))"
   ]
  },
  {
   "cell_type": "markdown",
   "id": "15a33a93",
   "metadata": {
    "papermill": {
     "duration": null,
     "end_time": null,
     "exception": null,
     "start_time": null,
     "status": "pending"
    },
    "tags": []
   },
   "source": [
    "<a class=\"anchor\" id=\"6.\"></a> \n",
    "# Random Forest Regression"
   ]
  },
  {
   "cell_type": "code",
   "execution_count": null,
   "id": "36533555",
   "metadata": {
    "execution": {
     "iopub.status.busy": "2023-05-17T11:03:51.415419Z",
     "iopub.status.idle": "2023-05-17T11:03:51.415963Z",
     "shell.execute_reply": "2023-05-17T11:03:51.415709Z",
     "shell.execute_reply.started": "2023-05-17T11:03:51.415683Z"
    },
    "papermill": {
     "duration": null,
     "end_time": null,
     "exception": null,
     "start_time": null,
     "status": "pending"
    },
    "tags": []
   },
   "outputs": [],
   "source": [
    "import pandas as pd\n",
    "import matplotlib.pyplot as plt\n",
    "import numpy as np\n",
    "\n",
    "data = pd.read_csv(\"/kaggle/input/randomforestregressiondataset/random-forest-regression-dataset.csv\", header=None)\n",
    "print(data.info())\n",
    "print(data.head())\n",
    "#print(data.describe())"
   ]
  },
  {
   "cell_type": "code",
   "execution_count": null,
   "id": "c61375f9",
   "metadata": {
    "execution": {
     "iopub.status.busy": "2023-05-17T11:03:51.417210Z",
     "iopub.status.idle": "2023-05-17T11:03:51.417695Z",
     "shell.execute_reply": "2023-05-17T11:03:51.417469Z",
     "shell.execute_reply.started": "2023-05-17T11:03:51.417445Z"
    },
    "papermill": {
     "duration": null,
     "end_time": null,
     "exception": null,
     "start_time": null,
     "status": "pending"
    },
    "tags": []
   },
   "outputs": [],
   "source": [
    "x = data.iloc[:,0].values.reshape(-1,1)\n",
    "y = data.iloc[:,1].values.reshape(-1,1)"
   ]
  },
  {
   "cell_type": "code",
   "execution_count": null,
   "id": "d2192aa2",
   "metadata": {
    "execution": {
     "iopub.status.busy": "2023-05-17T11:03:51.419599Z",
     "iopub.status.idle": "2023-05-17T11:03:51.420774Z",
     "shell.execute_reply": "2023-05-17T11:03:51.420508Z",
     "shell.execute_reply.started": "2023-05-17T11:03:51.420427Z"
    },
    "papermill": {
     "duration": null,
     "end_time": null,
     "exception": null,
     "start_time": null,
     "status": "pending"
    },
    "tags": []
   },
   "outputs": [],
   "source": [
    "from sklearn.ensemble import RandomForestRegressor\n",
    "rf = RandomForestRegressor(n_estimators = 100, random_state= 42) \n",
    "rf.fit(x,y)\n",
    "\n",
    "print(\"7.8 seviyesinde fiyatın ne kadar olduğu: \",rf.predict(np.array([7.8]).reshape(-1,1)))\n",
    "\n",
    "x_ = np.arange(min(x),max(x),0.01).reshape(-1,1)\n",
    "y_head = rf.predict(x_)\n",
    "\n",
    "# visualize\n",
    "plt.scatter(x,y,color=\"red\")\n",
    "plt.plot(x_,y_head,color=\"green\")\n",
    "plt.xlabel(\"tribun level\")\n",
    "plt.ylabel(\"ucret\")\n",
    "plt.show()"
   ]
  },
  {
   "cell_type": "code",
   "execution_count": null,
   "id": "4ff4f294",
   "metadata": {
    "execution": {
     "iopub.status.busy": "2023-05-17T11:03:51.421784Z",
     "iopub.status.idle": "2023-05-17T11:03:51.422159Z",
     "shell.execute_reply": "2023-05-17T11:03:51.422000Z",
     "shell.execute_reply.started": "2023-05-17T11:03:51.421977Z"
    },
    "papermill": {
     "duration": null,
     "end_time": null,
     "exception": null,
     "start_time": null,
     "status": "pending"
    },
    "tags": []
   },
   "outputs": [],
   "source": [
    "y_head = rf.predict(x)\n",
    "from sklearn.metrics import r2_score\n",
    "print(\"r_score: \", r2_score(y,y_head))"
   ]
  },
  {
   "cell_type": "markdown",
   "id": "cf93660f",
   "metadata": {
    "papermill": {
     "duration": null,
     "end_time": null,
     "exception": null,
     "start_time": null,
     "status": "pending"
    },
    "tags": []
   },
   "source": [
    "# Classification\n",
    "\n",
    "\n",
    "<a class=\"anchor\" id=\"7.\"></a> \n",
    "# K-Nearest Neighbour (KNN) Classification"
   ]
  },
  {
   "cell_type": "code",
   "execution_count": null,
   "id": "d7d72905",
   "metadata": {
    "execution": {
     "iopub.status.busy": "2023-05-17T11:03:51.423666Z",
     "iopub.status.idle": "2023-05-17T11:03:51.424045Z",
     "shell.execute_reply": "2023-05-17T11:03:51.423858Z",
     "shell.execute_reply.started": "2023-05-17T11:03:51.423841Z"
    },
    "papermill": {
     "duration": null,
     "end_time": null,
     "exception": null,
     "start_time": null,
     "status": "pending"
    },
    "tags": []
   },
   "outputs": [],
   "source": [
    "import pandas as pd\n",
    "import matplotlib.pyplot as plt\n",
    "import numpy as np\n",
    "\n",
    "data = pd.read_csv(\"/kaggle/input/classification/data.csv\")\n",
    "#print(data.info())\n",
    "#print(data.head())\n",
    "#print(data.describe())\n",
    "# %%\n",
    "data.drop([\"id\",\"Unnamed: 32\"],axis=1,inplace=True)\n",
    "data.tail()\n",
    "# malignant = M  kotu huylu tumor\n",
    "# benign = B     iyi huylu tumor"
   ]
  },
  {
   "cell_type": "code",
   "execution_count": null,
   "id": "21091e52",
   "metadata": {
    "execution": {
     "iopub.status.busy": "2023-05-17T11:03:51.424885Z",
     "iopub.status.idle": "2023-05-17T11:03:51.425216Z",
     "shell.execute_reply": "2023-05-17T11:03:51.425073Z",
     "shell.execute_reply.started": "2023-05-17T11:03:51.425056Z"
    },
    "papermill": {
     "duration": null,
     "end_time": null,
     "exception": null,
     "start_time": null,
     "status": "pending"
    },
    "tags": []
   },
   "outputs": [],
   "source": [
    "# %%\n",
    "M = data[data.diagnosis == \"M\"]\n",
    "B = data[data.diagnosis == \"B\"]\n",
    "# scatter plot\n",
    "plt.scatter(M.radius_mean,M.texture_mean,color=\"red\",label=\"kotu\",alpha= 0.3)\n",
    "plt.scatter(B.radius_mean,B.texture_mean,color=\"green\",label=\"iyi\",alpha= 0.3)\n",
    "plt.xlabel(\"radius_mean\")\n",
    "plt.ylabel(\"texture_mean\")\n",
    "plt.legend()\n",
    "plt.show()"
   ]
  },
  {
   "cell_type": "code",
   "execution_count": null,
   "id": "e6fffccb",
   "metadata": {
    "execution": {
     "iopub.status.busy": "2023-05-17T11:03:51.426311Z",
     "iopub.status.idle": "2023-05-17T11:03:51.426655Z",
     "shell.execute_reply": "2023-05-17T11:03:51.426495Z",
     "shell.execute_reply.started": "2023-05-17T11:03:51.426479Z"
    },
    "papermill": {
     "duration": null,
     "end_time": null,
     "exception": null,
     "start_time": null,
     "status": "pending"
    },
    "tags": []
   },
   "outputs": [],
   "source": [
    "# %%\n",
    "data.diagnosis = [1 if each == \"M\" else 0 for each in data.diagnosis]\n",
    "y = data.diagnosis.values\n",
    "x_data = data.drop([\"diagnosis\"],axis=1)\n",
    "\n",
    "#normalization\n",
    "x = (x_data - np.min(x_data))/(np.max(x_data)-np.min(x_data))"
   ]
  },
  {
   "cell_type": "code",
   "execution_count": null,
   "id": "acab3731",
   "metadata": {
    "execution": {
     "iopub.status.busy": "2023-05-17T11:03:51.427715Z",
     "iopub.status.idle": "2023-05-17T11:03:51.428437Z",
     "shell.execute_reply": "2023-05-17T11:03:51.428268Z",
     "shell.execute_reply.started": "2023-05-17T11:03:51.428248Z"
    },
    "papermill": {
     "duration": null,
     "end_time": null,
     "exception": null,
     "start_time": null,
     "status": "pending"
    },
    "tags": []
   },
   "outputs": [],
   "source": [
    "#%%\n",
    "# train test split\n",
    "from sklearn.model_selection import train_test_split\n",
    "x_train, x_test, y_train, y_test = train_test_split(x,y,test_size = 0.3,random_state=1)\n",
    "\n",
    "# %%\n",
    "# knn model\n",
    "from sklearn.neighbors import KNeighborsClassifier\n",
    "knn = KNeighborsClassifier(n_neighbors = 3) # n_neighbors = k\n",
    "knn.fit(x_train,y_train)\n",
    "prediction = knn.predict(x_test)\n",
    "print(\" {} nn score: {} \".format(3,knn.score(x_test,y_test)))"
   ]
  },
  {
   "cell_type": "code",
   "execution_count": null,
   "id": "b88487d8",
   "metadata": {
    "execution": {
     "iopub.status.busy": "2023-05-17T11:03:51.431092Z",
     "iopub.status.idle": "2023-05-17T11:03:51.431703Z",
     "shell.execute_reply": "2023-05-17T11:03:51.431497Z",
     "shell.execute_reply.started": "2023-05-17T11:03:51.431471Z"
    },
    "papermill": {
     "duration": null,
     "end_time": null,
     "exception": null,
     "start_time": null,
     "status": "pending"
    },
    "tags": []
   },
   "outputs": [],
   "source": [
    "# %%\n",
    "# find k value\n",
    "score_list = []\n",
    "for each in range(1,15):\n",
    "    knn2 = KNeighborsClassifier(n_neighbors = each)\n",
    "    knn2.fit(x_train,y_train)\n",
    "    score_list.append(knn2.score(x_test,y_test))\n",
    "    \n",
    "plt.plot(range(1,15),score_list)\n",
    "plt.xlabel(\"k values\")\n",
    "plt.ylabel(\"accuracy\")\n",
    "plt.show()"
   ]
  },
  {
   "cell_type": "code",
   "execution_count": null,
   "id": "61844a3f",
   "metadata": {
    "execution": {
     "iopub.status.busy": "2023-05-17T11:03:51.432704Z",
     "iopub.status.idle": "2023-05-17T11:03:51.433656Z",
     "shell.execute_reply": "2023-05-17T11:03:51.433475Z",
     "shell.execute_reply.started": "2023-05-17T11:03:51.433452Z"
    },
    "papermill": {
     "duration": null,
     "end_time": null,
     "exception": null,
     "start_time": null,
     "status": "pending"
    },
    "tags": []
   },
   "outputs": [],
   "source": [
    "#%% confusion matrix\n",
    "y_pred = knn.predict(x_test)\n",
    "y_true = y_test\n",
    "from sklearn.metrics import confusion_matrix\n",
    "cm = confusion_matrix(y_true,y_pred)\n",
    "\n",
    "# %% cm visualization\n",
    "import seaborn as sns\n",
    "\n",
    "f, ax = plt.subplots(figsize =(5,5))\n",
    "sns.heatmap(cm,annot = True,linewidths=0.5,linecolor=\"red\",fmt = \".0f\",ax=ax)\n",
    "plt.xlabel(\"y_pred\")\n",
    "plt.ylabel(\"y_true\")\n",
    "plt.show()"
   ]
  },
  {
   "cell_type": "markdown",
   "id": "be7be0a3",
   "metadata": {
    "papermill": {
     "duration": null,
     "end_time": null,
     "exception": null,
     "start_time": null,
     "status": "pending"
    },
    "tags": []
   },
   "source": [
    "\n",
    "<a class=\"anchor\" id=\"9.\"></a> \n",
    "# Naive Bayes Classification"
   ]
  },
  {
   "cell_type": "code",
   "execution_count": null,
   "id": "62b140a2",
   "metadata": {
    "execution": {
     "iopub.status.busy": "2023-05-17T11:03:51.437094Z",
     "iopub.status.idle": "2023-05-17T11:03:51.437532Z",
     "shell.execute_reply": "2023-05-17T11:03:51.437313Z",
     "shell.execute_reply.started": "2023-05-17T11:03:51.437294Z"
    },
    "papermill": {
     "duration": null,
     "end_time": null,
     "exception": null,
     "start_time": null,
     "status": "pending"
    },
    "tags": []
   },
   "outputs": [],
   "source": [
    "import pandas as pd\n",
    "import matplotlib.pyplot as plt\n",
    "import numpy as np\n",
    "\n",
    "data = pd.read_csv(\"/kaggle/input/classification/data.csv\")\n",
    "#print(data.info())\n",
    "#print(data.head())\n",
    "#print(data.describe())\n",
    "# %%\n",
    "data.drop([\"id\",\"Unnamed: 32\"],axis=1,inplace=True)\n",
    "data.tail()\n",
    "# malignant = M  kotu huylu tumor\n",
    "# benign = B     iyi huylu tumor"
   ]
  },
  {
   "cell_type": "code",
   "execution_count": null,
   "id": "2acc5ba5",
   "metadata": {
    "execution": {
     "iopub.status.busy": "2023-05-17T11:03:51.439054Z",
     "iopub.status.idle": "2023-05-17T11:03:51.439425Z",
     "shell.execute_reply": "2023-05-17T11:03:51.439263Z",
     "shell.execute_reply.started": "2023-05-17T11:03:51.439244Z"
    },
    "papermill": {
     "duration": null,
     "end_time": null,
     "exception": null,
     "start_time": null,
     "status": "pending"
    },
    "tags": []
   },
   "outputs": [],
   "source": [
    "# %%\n",
    "M = data[data.diagnosis == \"M\"]\n",
    "B = data[data.diagnosis == \"B\"]\n",
    "# scatter plot\n",
    "plt.scatter(M.radius_mean,M.texture_mean,color=\"red\",label=\"kotu\",alpha= 0.3)\n",
    "plt.scatter(B.radius_mean,B.texture_mean,color=\"green\",label=\"iyi\",alpha= 0.3)\n",
    "plt.xlabel(\"radius_mean\")\n",
    "plt.ylabel(\"texture_mean\")\n",
    "plt.legend()\n",
    "plt.show()"
   ]
  },
  {
   "cell_type": "code",
   "execution_count": null,
   "id": "016aa6a0",
   "metadata": {
    "execution": {
     "iopub.status.busy": "2023-05-17T11:03:51.441036Z",
     "iopub.status.idle": "2023-05-17T11:03:51.441946Z",
     "shell.execute_reply": "2023-05-17T11:03:51.441748Z",
     "shell.execute_reply.started": "2023-05-17T11:03:51.441727Z"
    },
    "papermill": {
     "duration": null,
     "end_time": null,
     "exception": null,
     "start_time": null,
     "status": "pending"
    },
    "tags": []
   },
   "outputs": [],
   "source": [
    "# %%\n",
    "data.diagnosis = [1 if each == \"M\" else 0 for each in data.diagnosis]\n",
    "y = data.diagnosis.values\n",
    "x_data = data.drop([\"diagnosis\"],axis=1)\n",
    "\n",
    "# %%\n",
    "# normalization \n",
    "x = (x_data - np.min(x_data))/(np.max(x_data)-np.min(x_data))"
   ]
  },
  {
   "cell_type": "code",
   "execution_count": null,
   "id": "e7fcf4a3",
   "metadata": {
    "execution": {
     "iopub.status.busy": "2023-05-17T11:03:51.443139Z",
     "iopub.status.idle": "2023-05-17T11:03:51.444131Z",
     "shell.execute_reply": "2023-05-17T11:03:51.443957Z",
     "shell.execute_reply.started": "2023-05-17T11:03:51.443934Z"
    },
    "papermill": {
     "duration": null,
     "end_time": null,
     "exception": null,
     "start_time": null,
     "status": "pending"
    },
    "tags": []
   },
   "outputs": [],
   "source": [
    "#train test and split \n",
    "from sklearn.model_selection import train_test_split\n",
    "x_train, x_test, y_train, y_test = train_test_split(x,y,test_size = 0.3, random_state = 1)\n",
    "\n",
    "#Naive Bayes \n",
    "from sklearn.naive_bayes import GaussianNB\n",
    "nb = GaussianNB()\n",
    "nb.fit(x_train,y_train)\n",
    "\n",
    "nb.score(x_test, y_test)\n",
    "\n",
    "# test \n",
    "print(\"print accuracy of naive bayes algo: \", nb.score(x_test, y_test))"
   ]
  },
  {
   "cell_type": "code",
   "execution_count": null,
   "id": "7533270f",
   "metadata": {
    "execution": {
     "iopub.execute_input": "2023-05-17T11:03:51.617893Z",
     "iopub.status.busy": "2023-05-17T11:03:51.617070Z",
     "iopub.status.idle": "2023-05-17T11:03:51.838948Z",
     "shell.execute_reply": "2023-05-17T11:03:51.837917Z",
     "shell.execute_reply.started": "2023-05-17T11:03:51.617837Z"
    },
    "papermill": {
     "duration": null,
     "end_time": null,
     "exception": null,
     "start_time": null,
     "status": "pending"
    },
    "tags": []
   },
   "outputs": [],
   "source": [
    "#%% confusion matrix\n",
    "y_pred = nb.predict(x_test)\n",
    "y_true = y_test\n",
    "from sklearn.metrics import confusion_matrix\n",
    "cm = confusion_matrix(y_true,y_pred)\n",
    "\n",
    "# %% cm visualization\n",
    "import seaborn as sns\n",
    "\n",
    "f, ax = plt.subplots(figsize =(5,5))\n",
    "sns.heatmap(cm,annot = True,linewidths=0.5,linecolor=\"red\",fmt = \".0f\",ax=ax)\n",
    "plt.xlabel(\"y_pred\")\n",
    "plt.ylabel(\"y_true\")\n",
    "plt.show()"
   ]
  },
  {
   "cell_type": "markdown",
   "id": "18ca8226",
   "metadata": {
    "papermill": {
     "duration": null,
     "end_time": null,
     "exception": null,
     "start_time": null,
     "status": "pending"
    },
    "tags": []
   },
   "source": [
    "\n",
    "<a class=\"anchor\" id=\"10.\"></a> \n",
    "# Decision Tree Classification"
   ]
  },
  {
   "cell_type": "code",
   "execution_count": null,
   "id": "6dbda1ad",
   "metadata": {
    "execution": {
     "iopub.execute_input": "2023-05-17T11:03:51.841102Z",
     "iopub.status.busy": "2023-05-17T11:03:51.840787Z",
     "iopub.status.idle": "2023-05-17T11:03:51.875956Z",
     "shell.execute_reply": "2023-05-17T11:03:51.874929Z",
     "shell.execute_reply.started": "2023-05-17T11:03:51.841074Z"
    },
    "papermill": {
     "duration": null,
     "end_time": null,
     "exception": null,
     "start_time": null,
     "status": "pending"
    },
    "tags": []
   },
   "outputs": [],
   "source": [
    "import pandas as pd\n",
    "import matplotlib.pyplot as plt\n",
    "import numpy as np\n",
    "\n",
    "data = pd.read_csv(\"/kaggle/input/classification/data.csv\")\n",
    "#print(data.info())\n",
    "#print(data.head())\n",
    "#print(data.describe())\n",
    "# %%\n",
    "data.drop([\"id\",\"Unnamed: 32\"],axis=1,inplace=True)\n",
    "data.tail()\n",
    "# malignant = M  kotu huylu tumor\n",
    "# benign = B     iyi huylu tumor"
   ]
  },
  {
   "cell_type": "code",
   "execution_count": null,
   "id": "0ae95673",
   "metadata": {
    "execution": {
     "iopub.execute_input": "2023-05-17T11:03:51.877549Z",
     "iopub.status.busy": "2023-05-17T11:03:51.877221Z",
     "iopub.status.idle": "2023-05-17T11:03:52.124407Z",
     "shell.execute_reply": "2023-05-17T11:03:52.123251Z",
     "shell.execute_reply.started": "2023-05-17T11:03:51.877518Z"
    },
    "papermill": {
     "duration": null,
     "end_time": null,
     "exception": null,
     "start_time": null,
     "status": "pending"
    },
    "tags": []
   },
   "outputs": [],
   "source": [
    "# %%\n",
    "M = data[data.diagnosis == \"M\"]\n",
    "B = data[data.diagnosis == \"B\"]\n",
    "# scatter plot\n",
    "plt.scatter(M.radius_mean,M.texture_mean,color=\"red\",label=\"kotu\",alpha= 0.3)\n",
    "plt.scatter(B.radius_mean,B.texture_mean,color=\"green\",label=\"iyi\",alpha= 0.3)\n",
    "plt.xlabel(\"radius_mean\")\n",
    "plt.ylabel(\"texture_mean\")\n",
    "plt.legend()\n",
    "plt.show()"
   ]
  },
  {
   "cell_type": "code",
   "execution_count": null,
   "id": "80d768f9",
   "metadata": {
    "execution": {
     "iopub.execute_input": "2023-05-17T11:03:52.127709Z",
     "iopub.status.busy": "2023-05-17T11:03:52.127346Z",
     "iopub.status.idle": "2023-05-17T11:03:52.139601Z",
     "shell.execute_reply": "2023-05-17T11:03:52.138521Z",
     "shell.execute_reply.started": "2023-05-17T11:03:52.127673Z"
    },
    "papermill": {
     "duration": null,
     "end_time": null,
     "exception": null,
     "start_time": null,
     "status": "pending"
    },
    "tags": []
   },
   "outputs": [],
   "source": [
    "# %%\n",
    "data.diagnosis = [1 if each == \"M\" else 0 for each in data.diagnosis]\n",
    "y = data.diagnosis.values\n",
    "x_data = data.drop([\"diagnosis\"],axis=1)\n",
    "\n",
    "# %%\n",
    "# normalization \n",
    "x = (x_data - np.min(x_data))/(np.max(x_data)-np.min(x_data))"
   ]
  },
  {
   "cell_type": "code",
   "execution_count": null,
   "id": "5ca8ae62",
   "metadata": {
    "execution": {
     "iopub.execute_input": "2023-05-17T11:03:52.141203Z",
     "iopub.status.busy": "2023-05-17T11:03:52.140813Z",
     "iopub.status.idle": "2023-05-17T11:03:52.162493Z",
     "shell.execute_reply": "2023-05-17T11:03:52.161749Z",
     "shell.execute_reply.started": "2023-05-17T11:03:52.141173Z"
    },
    "papermill": {
     "duration": null,
     "end_time": null,
     "exception": null,
     "start_time": null,
     "status": "pending"
    },
    "tags": []
   },
   "outputs": [],
   "source": [
    "# %% train test split\n",
    "from sklearn.model_selection import train_test_split\n",
    "x_train, x_test,y_train, y_test = train_test_split(x,y,test_size = 0.15,random_state = 42)\n",
    "\n",
    "#%%\n",
    "from sklearn.tree import DecisionTreeClassifier\n",
    "dt = DecisionTreeClassifier()\n",
    "dt.fit(x_train,y_train)\n",
    "\n",
    "print(\"score: \", dt.score(x_test,y_test))"
   ]
  },
  {
   "cell_type": "code",
   "execution_count": null,
   "id": "3adfaaf6",
   "metadata": {
    "execution": {
     "iopub.execute_input": "2023-05-17T11:03:52.164318Z",
     "iopub.status.busy": "2023-05-17T11:03:52.163778Z",
     "iopub.status.idle": "2023-05-17T11:03:52.388139Z",
     "shell.execute_reply": "2023-05-17T11:03:52.387048Z",
     "shell.execute_reply.started": "2023-05-17T11:03:52.164286Z"
    },
    "papermill": {
     "duration": null,
     "end_time": null,
     "exception": null,
     "start_time": null,
     "status": "pending"
    },
    "tags": []
   },
   "outputs": [],
   "source": [
    "#%% confusion matrix\n",
    "y_pred = dt.predict(x_test)\n",
    "y_true = y_test\n",
    "from sklearn.metrics import confusion_matrix\n",
    "cm = confusion_matrix(y_true,y_pred)\n",
    "\n",
    "# %% cm visualization\n",
    "import seaborn as sns\n",
    "\n",
    "f, ax = plt.subplots(figsize =(5,5))\n",
    "sns.heatmap(cm,annot = True,linewidths=0.5,linecolor=\"red\",fmt = \".0f\",ax=ax)\n",
    "plt.xlabel(\"y_pred\")\n",
    "plt.ylabel(\"y_true\")\n",
    "plt.show()"
   ]
  },
  {
   "cell_type": "markdown",
   "id": "e2215e89",
   "metadata": {
    "papermill": {
     "duration": null,
     "end_time": null,
     "exception": null,
     "start_time": null,
     "status": "pending"
    },
    "tags": []
   },
   "source": [
    "\n",
    "<a class=\"anchor\" id=\"11.\"></a> \n",
    "# Random Forest Classification"
   ]
  },
  {
   "cell_type": "code",
   "execution_count": null,
   "id": "b087b349",
   "metadata": {
    "execution": {
     "iopub.execute_input": "2023-05-17T11:03:52.390184Z",
     "iopub.status.busy": "2023-05-17T11:03:52.389673Z",
     "iopub.status.idle": "2023-05-17T11:03:52.427302Z",
     "shell.execute_reply": "2023-05-17T11:03:52.426234Z",
     "shell.execute_reply.started": "2023-05-17T11:03:52.390144Z"
    },
    "papermill": {
     "duration": null,
     "end_time": null,
     "exception": null,
     "start_time": null,
     "status": "pending"
    },
    "tags": []
   },
   "outputs": [],
   "source": [
    "import pandas as pd\n",
    "import matplotlib.pyplot as plt\n",
    "import numpy as np\n",
    "\n",
    "data = pd.read_csv(\"/kaggle/input/classification/data.csv\")\n",
    "#print(data.info())\n",
    "#print(data.head())\n",
    "#print(data.describe())\n",
    "# %%\n",
    "data.drop([\"id\",\"Unnamed: 32\"],axis=1,inplace=True)\n",
    "data.tail()\n",
    "# malignant = M  kotu huylu tumor\n",
    "# benign = B     iyi huylu tumor"
   ]
  },
  {
   "cell_type": "code",
   "execution_count": null,
   "id": "81f5998b",
   "metadata": {
    "execution": {
     "iopub.execute_input": "2023-05-17T11:03:52.429425Z",
     "iopub.status.busy": "2023-05-17T11:03:52.428670Z",
     "iopub.status.idle": "2023-05-17T11:03:52.672571Z",
     "shell.execute_reply": "2023-05-17T11:03:52.671475Z",
     "shell.execute_reply.started": "2023-05-17T11:03:52.429382Z"
    },
    "papermill": {
     "duration": null,
     "end_time": null,
     "exception": null,
     "start_time": null,
     "status": "pending"
    },
    "tags": []
   },
   "outputs": [],
   "source": [
    "# %%\n",
    "M = data[data.diagnosis == \"M\"]\n",
    "B = data[data.diagnosis == \"B\"]\n",
    "# scatter plot\n",
    "plt.scatter(M.radius_mean,M.texture_mean,color=\"red\",label=\"kotu\",alpha= 0.3)\n",
    "plt.scatter(B.radius_mean,B.texture_mean,color=\"green\",label=\"iyi\",alpha= 0.3)\n",
    "plt.xlabel(\"radius_mean\")\n",
    "plt.ylabel(\"texture_mean\")\n",
    "plt.legend()\n",
    "plt.show()"
   ]
  },
  {
   "cell_type": "code",
   "execution_count": null,
   "id": "efaeb7be",
   "metadata": {
    "execution": {
     "iopub.execute_input": "2023-05-17T11:03:52.674439Z",
     "iopub.status.busy": "2023-05-17T11:03:52.674097Z",
     "iopub.status.idle": "2023-05-17T11:03:52.686475Z",
     "shell.execute_reply": "2023-05-17T11:03:52.685334Z",
     "shell.execute_reply.started": "2023-05-17T11:03:52.674408Z"
    },
    "papermill": {
     "duration": null,
     "end_time": null,
     "exception": null,
     "start_time": null,
     "status": "pending"
    },
    "tags": []
   },
   "outputs": [],
   "source": [
    "# %%\n",
    "data.diagnosis = [1 if each == \"M\" else 0 for each in data.diagnosis]\n",
    "y = data.diagnosis.values\n",
    "x_data = data.drop([\"diagnosis\"],axis=1)\n",
    "\n",
    "# %%\n",
    "# normalization \n",
    "x = (x_data - np.min(x_data))/(np.max(x_data)-np.min(x_data))"
   ]
  },
  {
   "cell_type": "code",
   "execution_count": null,
   "id": "920847d1",
   "metadata": {
    "execution": {
     "iopub.execute_input": "2023-05-17T11:03:52.692061Z",
     "iopub.status.busy": "2023-05-17T11:03:52.691679Z",
     "iopub.status.idle": "2023-05-17T11:03:52.964722Z",
     "shell.execute_reply": "2023-05-17T11:03:52.963628Z",
     "shell.execute_reply.started": "2023-05-17T11:03:52.692028Z"
    },
    "papermill": {
     "duration": null,
     "end_time": null,
     "exception": null,
     "start_time": null,
     "status": "pending"
    },
    "tags": []
   },
   "outputs": [],
   "source": [
    "# %% train test split\n",
    "from sklearn.model_selection import train_test_split\n",
    "x_train, x_test,y_train, y_test = train_test_split(x,y,test_size = 0.15,random_state = 42)\n",
    "\n",
    "#%%  random forest\n",
    "from sklearn.ensemble import RandomForestClassifier\n",
    "\n",
    "rf = RandomForestClassifier(n_estimators = 100,random_state = 1)\n",
    "rf.fit(x_train,y_train)\n",
    "print(\"random forest algo result: \",rf.score(x_test,y_test))"
   ]
  },
  {
   "cell_type": "code",
   "execution_count": null,
   "id": "88d72a60",
   "metadata": {
    "execution": {
     "iopub.execute_input": "2023-05-17T11:03:52.967094Z",
     "iopub.status.busy": "2023-05-17T11:03:52.966010Z",
     "iopub.status.idle": "2023-05-17T11:03:53.220161Z",
     "shell.execute_reply": "2023-05-17T11:03:53.219023Z",
     "shell.execute_reply.started": "2023-05-17T11:03:52.967057Z"
    },
    "papermill": {
     "duration": null,
     "end_time": null,
     "exception": null,
     "start_time": null,
     "status": "pending"
    },
    "tags": []
   },
   "outputs": [],
   "source": [
    "#%% confusion matrix\n",
    "y_pred = rf.predict(x_test)\n",
    "y_true = y_test\n",
    "from sklearn.metrics import confusion_matrix\n",
    "cm = confusion_matrix(y_true,y_pred)\n",
    "\n",
    "# %% cm visualization\n",
    "import seaborn as sns\n",
    "\n",
    "f, ax = plt.subplots(figsize =(5,5))\n",
    "sns.heatmap(cm,annot = True,linewidths=0.5,linecolor=\"red\",fmt = \".0f\",ax=ax)\n",
    "plt.xlabel(\"y_pred\")\n",
    "plt.ylabel(\"y_true\")\n",
    "plt.show()"
   ]
  },
  {
   "cell_type": "markdown",
   "id": "2e0d34da",
   "metadata": {
    "papermill": {
     "duration": null,
     "end_time": null,
     "exception": null,
     "start_time": null,
     "status": "pending"
    },
    "tags": []
   },
   "source": [
    "# Clustering\n",
    "<a class=\"anchor\" id=\"12.\"></a> \n",
    "# K-Means Clustering"
   ]
  },
  {
   "cell_type": "code",
   "execution_count": null,
   "id": "10099493",
   "metadata": {
    "execution": {
     "iopub.execute_input": "2023-05-17T11:03:53.222335Z",
     "iopub.status.busy": "2023-05-17T11:03:53.221970Z",
     "iopub.status.idle": "2023-05-17T11:03:53.950639Z",
     "shell.execute_reply": "2023-05-17T11:03:53.949878Z",
     "shell.execute_reply.started": "2023-05-17T11:03:53.222301Z"
    },
    "papermill": {
     "duration": null,
     "end_time": null,
     "exception": null,
     "start_time": null,
     "status": "pending"
    },
    "tags": []
   },
   "outputs": [],
   "source": [
    "import numpy as np\n",
    "import pandas as pd\n",
    "import matplotlib.pyplot as plt\n",
    "\n",
    "# %% create dataset\n",
    "# class1\n",
    "x1 = np.random.normal(25,5,1000)\n",
    "y1 = np.random.normal(25,5,1000)\n",
    "\n",
    "# class2\n",
    "x2 = np.random.normal(55,5,1000)\n",
    "y2 = np.random.normal(60,5,1000)\n",
    "\n",
    "# class3\n",
    "x3 = np.random.normal(55,5,1000)\n",
    "y3 = np.random.normal(15,5,1000)\n",
    "\n",
    "x = np.concatenate((x1,x2,x3),axis = 0)\n",
    "y = np.concatenate((y1,y2,y3),axis = 0)\n",
    "\n",
    "dictionary = {\"x\":x,\"y\":y}\n",
    "data = pd.DataFrame(dictionary)\n",
    "\n",
    "plt.scatter(x1,y1)\n",
    "plt.scatter(x2,y2)\n",
    "plt.scatter(x3,y3)\n",
    "plt.show()"
   ]
  },
  {
   "cell_type": "code",
   "execution_count": null,
   "id": "0147a598",
   "metadata": {
    "execution": {
     "iopub.execute_input": "2023-05-17T11:03:53.952523Z",
     "iopub.status.busy": "2023-05-17T11:03:53.951969Z",
     "iopub.status.idle": "2023-05-17T11:03:54.884781Z",
     "shell.execute_reply": "2023-05-17T11:03:54.883700Z",
     "shell.execute_reply.started": "2023-05-17T11:03:53.952490Z"
    },
    "papermill": {
     "duration": null,
     "end_time": null,
     "exception": null,
     "start_time": null,
     "status": "pending"
    },
    "tags": []
   },
   "outputs": [],
   "source": [
    "# %% KMEANS\n",
    "\n",
    "from sklearn.cluster import KMeans\n",
    "wcss = []\n",
    "\n",
    "for k in range(1,15):\n",
    "    kmeans = KMeans(n_clusters=k)\n",
    "    kmeans.fit(data)\n",
    "    wcss.append(kmeans.inertia_)\n",
    "    \n",
    "plt.plot(range(1,15),wcss)\n",
    "plt.xlabel(\"number of k (cluster) value\")\n",
    "plt.ylabel(\"wcss\")\n",
    "plt.show()"
   ]
  },
  {
   "cell_type": "code",
   "execution_count": null,
   "id": "809cdcc6",
   "metadata": {
    "execution": {
     "iopub.execute_input": "2023-05-17T11:03:54.887237Z",
     "iopub.status.busy": "2023-05-17T11:03:54.886212Z",
     "iopub.status.idle": "2023-05-17T11:03:55.149909Z",
     "shell.execute_reply": "2023-05-17T11:03:55.148906Z",
     "shell.execute_reply.started": "2023-05-17T11:03:54.887196Z"
    },
    "papermill": {
     "duration": null,
     "end_time": null,
     "exception": null,
     "start_time": null,
     "status": "pending"
    },
    "tags": []
   },
   "outputs": [],
   "source": [
    "#%% k = 3 icin modelim\n",
    "kmeans2 = KMeans(n_clusters=3)\n",
    "clusters = kmeans2.fit_predict(data)\n",
    "\n",
    "data[\"label\"] = clusters\n",
    "\n",
    "plt.scatter(data.x[data.label == 0 ],data.y[data.label == 0],color = \"red\")\n",
    "plt.scatter(data.x[data.label == 1 ],data.y[data.label == 1],color = \"green\")\n",
    "plt.scatter(data.x[data.label == 2 ],data.y[data.label == 2],color = \"blue\")\n",
    "plt.scatter(kmeans2.cluster_centers_[:,0],kmeans2.cluster_centers_[:,1],color = \"yellow\")\n",
    "plt.show()"
   ]
  },
  {
   "cell_type": "markdown",
   "id": "f40c3f04",
   "metadata": {
    "papermill": {
     "duration": null,
     "end_time": null,
     "exception": null,
     "start_time": null,
     "status": "pending"
    },
    "tags": []
   },
   "source": [
    "\n",
    "<a class=\"anchor\" id=\"13.\"></a> \n",
    "# Hierarchical Clustering"
   ]
  },
  {
   "cell_type": "code",
   "execution_count": null,
   "id": "0f9aafd6",
   "metadata": {
    "execution": {
     "iopub.execute_input": "2023-05-17T11:03:55.151583Z",
     "iopub.status.busy": "2023-05-17T11:03:55.151244Z",
     "iopub.status.idle": "2023-05-17T11:03:55.364039Z",
     "shell.execute_reply": "2023-05-17T11:03:55.363252Z",
     "shell.execute_reply.started": "2023-05-17T11:03:55.151554Z"
    },
    "papermill": {
     "duration": null,
     "end_time": null,
     "exception": null,
     "start_time": null,
     "status": "pending"
    },
    "tags": []
   },
   "outputs": [],
   "source": [
    "import numpy as np\n",
    "import pandas as pd\n",
    "import matplotlib.pyplot as plt\n",
    "\n",
    "# %% create dataset\n",
    "# class1\n",
    "x1 = np.random.normal(25,5,100)\n",
    "y1 = np.random.normal(25,5,100)\n",
    "\n",
    "# class2\n",
    "x2 = np.random.normal(55,5,100)\n",
    "y2 = np.random.normal(60,5,100)\n",
    "\n",
    "# class3\n",
    "x3 = np.random.normal(55,5,100)\n",
    "y3 = np.random.normal(15,5,100)\n",
    "\n",
    "x = np.concatenate((x1,x2,x3),axis = 0)\n",
    "y = np.concatenate((y1,y2,y3),axis = 0)\n",
    "\n",
    "dictionary = {\"x\":x,\"y\":y}\n",
    "\n",
    "data = pd.DataFrame(dictionary)\n",
    "\n",
    "plt.scatter(x1,y1,color=\"black\")\n",
    "plt.scatter(x2,y2,color=\"black\")\n",
    "plt.scatter(x3,y3,color=\"black\")\n",
    "plt.show()"
   ]
  },
  {
   "cell_type": "code",
   "execution_count": null,
   "id": "599edb6e",
   "metadata": {
    "execution": {
     "iopub.execute_input": "2023-05-17T11:03:55.365887Z",
     "iopub.status.busy": "2023-05-17T11:03:55.365104Z",
     "iopub.status.idle": "2023-05-17T11:03:58.209370Z",
     "shell.execute_reply": "2023-05-17T11:03:58.208331Z",
     "shell.execute_reply.started": "2023-05-17T11:03:55.365834Z"
    },
    "papermill": {
     "duration": null,
     "end_time": null,
     "exception": null,
     "start_time": null,
     "status": "pending"
    },
    "tags": []
   },
   "outputs": [],
   "source": [
    "# %% dendogram\n",
    "from scipy.cluster.hierarchy import linkage, dendrogram\n",
    "\n",
    "merg = linkage(data,method=\"ward\")\n",
    "dendrogram(merg,leaf_rotation = 90)\n",
    "plt.xlabel(\"data points\")\n",
    "plt.ylabel(\"euclidean distance\")\n",
    "plt.show()"
   ]
  },
  {
   "cell_type": "code",
   "execution_count": null,
   "id": "ca59d671",
   "metadata": {
    "execution": {
     "iopub.execute_input": "2023-05-17T11:03:58.211708Z",
     "iopub.status.busy": "2023-05-17T11:03:58.210787Z",
     "iopub.status.idle": "2023-05-17T11:03:58.431040Z",
     "shell.execute_reply": "2023-05-17T11:03:58.429964Z",
     "shell.execute_reply.started": "2023-05-17T11:03:58.211666Z"
    },
    "papermill": {
     "duration": null,
     "end_time": null,
     "exception": null,
     "start_time": null,
     "status": "pending"
    },
    "tags": []
   },
   "outputs": [],
   "source": [
    "# %% HC\n",
    "from sklearn.cluster import AgglomerativeClustering\n",
    "\n",
    "hiyerartical_cluster = AgglomerativeClustering(n_clusters = 3,affinity= \"euclidean\",linkage = \"ward\")\n",
    "cluster = hiyerartical_cluster.fit_predict(data)\n",
    "\n",
    "data[\"label\"] = cluster\n",
    "\n",
    "plt.scatter(data.x[data.label == 0 ],data.y[data.label == 0],color = \"red\")\n",
    "plt.scatter(data.x[data.label == 1 ],data.y[data.label == 1],color = \"green\")\n",
    "plt.scatter(data.x[data.label == 2 ],data.y[data.label == 2],color = \"blue\")\n",
    "#plt.scatter(data.x[data.label == 3 ],data.y[data.label == 3],color = \"black\")\n",
    "plt.show()"
   ]
  },
  {
   "cell_type": "markdown",
   "id": "69fe9d67",
   "metadata": {
    "papermill": {
     "duration": null,
     "end_time": null,
     "exception": null,
     "start_time": null,
     "status": "pending"
    },
    "tags": []
   },
   "source": [
    "# Other Content\n",
    "<a class=\"anchor\" id=\"14.\"></a> \n",
    "# Natural Language Process (NLP)"
   ]
  },
  {
   "cell_type": "code",
   "execution_count": null,
   "id": "e6c91fa6",
   "metadata": {
    "execution": {
     "iopub.execute_input": "2023-05-17T11:42:02.027195Z",
     "iopub.status.busy": "2023-05-17T11:42:02.025692Z",
     "iopub.status.idle": "2023-05-17T11:42:02.378627Z",
     "shell.execute_reply": "2023-05-17T11:42:02.377492Z",
     "shell.execute_reply.started": "2023-05-17T11:42:02.027143Z"
    },
    "papermill": {
     "duration": null,
     "end_time": null,
     "exception": null,
     "start_time": null,
     "status": "pending"
    },
    "tags": []
   },
   "outputs": [],
   "source": [
    "# %% import twitter data\n",
    "import pandas as pd\n",
    "data = pd.read_csv(\"/kaggle/input/natural-language-process-nlp/gender-classifier.csv\",encoding = \"latin1\")\n",
    "data = pd.concat([data.gender,data.description],axis=1)\n",
    "data.dropna(axis = 0,inplace = True)\n",
    "data.gender = [1 if each == \"female\" else 0 for each in data.gender]\n",
    "print(data.info())\n",
    "print(data.head())\n",
    "#print(data.describe())"
   ]
  },
  {
   "cell_type": "code",
   "execution_count": null,
   "id": "28d8c38e",
   "metadata": {
    "execution": {
     "iopub.execute_input": "2023-05-17T11:43:00.501162Z",
     "iopub.status.busy": "2023-05-17T11:43:00.500748Z",
     "iopub.status.idle": "2023-05-17T11:43:20.674282Z",
     "shell.execute_reply": "2023-05-17T11:43:20.672583Z",
     "shell.execute_reply.started": "2023-05-17T11:43:00.501127Z"
    },
    "papermill": {
     "duration": null,
     "end_time": null,
     "exception": null,
     "start_time": null,
     "status": "pending"
    },
    "tags": []
   },
   "outputs": [],
   "source": [
    "import nltk \n",
    "# natural language tool kit\n",
    "nltk.download(\"stopwords\")      # corpus diye bir kalsore indiriliyor\n",
    "from nltk.corpus import stopwords  # sonra ben corpus klasorunden import ediyorum\n",
    "import re\n",
    "description_list = []\n",
    "for description in data.description:\n",
    "    description = re.sub(\"[^a-zA-Z]\",\" \",description) # regular expression RE mesela \"[^a-zA-Z]\"\n",
    "    description = description.lower()   # buyuk harftan kucuk harfe cevirme\n",
    "    description = nltk.word_tokenize(description)# split kullanırsak \"shouldn't \" gibi kelimeler \"should\" ve \"not\" diye ikiye ayrılmaz ama word_tokenize() kullanirsak ayrilir\n",
    "    description = [ word for word in description if not word in set(stopwords.words(\"english\"))] # greksiz kelimeleri cikar\n",
    "    lemma = nltk.WordNetLemmatizer() # lemmatazation loved => love   gitmeyecegim = > git\n",
    "    description = [ lemma.lemmatize(word) for word in description]\n",
    "    description = \" \".join(description)\n",
    "    description_list.append(description)\n",
    "print(description_list)"
   ]
  },
  {
   "cell_type": "code",
   "execution_count": null,
   "id": "bf01ffc6",
   "metadata": {
    "execution": {
     "iopub.execute_input": "2023-05-17T11:44:11.086831Z",
     "iopub.status.busy": "2023-05-17T11:44:11.086476Z",
     "iopub.status.idle": "2023-05-17T11:44:11.140458Z",
     "shell.execute_reply": "2023-05-17T11:44:11.138949Z",
     "shell.execute_reply.started": "2023-05-17T11:44:11.086801Z"
    },
    "papermill": {
     "duration": null,
     "end_time": null,
     "exception": null,
     "start_time": null,
     "status": "pending"
    },
    "tags": []
   },
   "outputs": [],
   "source": [
    "# %% bag of words\n",
    "from sklearn.feature_extraction.text import CountVectorizer # bag of words yaratmak icin kullandigim metot\n",
    "max_features = 500\n",
    "\n",
    "count_vectorizer = CountVectorizer(max_features=max_features,stop_words = \"english\")\n",
    "sparce_matrix = count_vectorizer.fit_transform(description_list).toarray()  # x\n",
    "\n",
    "#print(\"en sik kullanilan {} kelimeler: {}\".format(max_features,count_vectorizer.get_feature_names()))"
   ]
  },
  {
   "cell_type": "code",
   "execution_count": null,
   "id": "32fd5b2b",
   "metadata": {
    "execution": {
     "iopub.status.busy": "2023-05-17T11:04:18.985537Z",
     "iopub.status.idle": "2023-05-17T11:04:18.986405Z",
     "shell.execute_reply": "2023-05-17T11:04:18.986154Z",
     "shell.execute_reply.started": "2023-05-17T11:04:18.986126Z"
    },
    "papermill": {
     "duration": null,
     "end_time": null,
     "exception": null,
     "start_time": null,
     "status": "pending"
    },
    "tags": []
   },
   "outputs": [],
   "source": [
    "# %%\n",
    "y = data.iloc[:,0].values   # male or female classes\n",
    "x = sparce_matrix\n",
    "# train test split\n",
    "from sklearn.model_selection import train_test_split\n",
    "x_train, x_test, y_train, y_test = train_test_split(x,y, test_size = 0.1, random_state = 42)"
   ]
  },
  {
   "cell_type": "code",
   "execution_count": null,
   "id": "a6256420",
   "metadata": {
    "execution": {
     "iopub.status.busy": "2023-05-17T11:04:18.987989Z",
     "iopub.status.idle": "2023-05-17T11:04:18.988621Z",
     "shell.execute_reply": "2023-05-17T11:04:18.988443Z",
     "shell.execute_reply.started": "2023-05-17T11:04:18.988422Z"
    },
    "papermill": {
     "duration": null,
     "end_time": null,
     "exception": null,
     "start_time": null,
     "status": "pending"
    },
    "tags": []
   },
   "outputs": [],
   "source": [
    "# %% naive bayes\n",
    "from sklearn.naive_bayes import GaussianNB\n",
    "nb = GaussianNB()\n",
    "nb.fit(x_train,y_train)\n",
    "#%% prediction\n",
    "y_pred = nb.predict(x_test)\n",
    "print(\"accuracy: \",nb.score(y_pred.reshape(-1,1),y_test))"
   ]
  },
  {
   "cell_type": "code",
   "execution_count": null,
   "id": "c4b2f2a2",
   "metadata": {
    "execution": {
     "iopub.execute_input": "2023-05-17T11:16:54.006894Z",
     "iopub.status.busy": "2023-05-17T11:16:54.006314Z",
     "iopub.status.idle": "2023-05-17T11:16:54.089739Z",
     "shell.execute_reply": "2023-05-17T11:16:54.088108Z",
     "shell.execute_reply.started": "2023-05-17T11:16:54.006832Z"
    },
    "papermill": {
     "duration": null,
     "end_time": null,
     "exception": null,
     "start_time": null,
     "status": "pending"
    },
    "tags": []
   },
   "outputs": [],
   "source": [
    "# %% naive bayes\n",
    "from sklearn.naive_bayes import GaussianNB\n",
    "nb = GaussianNB()\n",
    "nb.fit(x_train,y_train)\n",
    "#%% prediction\n",
    "y_pred = nb.predict(x_test)\n",
    "print(\"accuracy: \",nb.score(y_pred.reshape(-1,1),y_test))"
   ]
  },
  {
   "cell_type": "markdown",
   "id": "0eb11a37",
   "metadata": {
    "papermill": {
     "duration": null,
     "end_time": null,
     "exception": null,
     "start_time": null,
     "status": "pending"
    },
    "tags": []
   },
   "source": [
    "\n",
    "<a class=\"anchor\" id=\"15.\"></a> \n",
    "# Principal Component Analysis (PCA)"
   ]
  },
  {
   "cell_type": "code",
   "execution_count": null,
   "id": "ec6d557e",
   "metadata": {
    "execution": {
     "iopub.execute_input": "2023-05-17T11:28:15.972705Z",
     "iopub.status.busy": "2023-05-17T11:28:15.972286Z",
     "iopub.status.idle": "2023-05-17T11:28:16.000032Z",
     "shell.execute_reply": "2023-05-17T11:28:15.999125Z",
     "shell.execute_reply.started": "2023-05-17T11:28:15.972673Z"
    },
    "papermill": {
     "duration": null,
     "end_time": null,
     "exception": null,
     "start_time": null,
     "status": "pending"
    },
    "tags": []
   },
   "outputs": [],
   "source": [
    "from sklearn.datasets import load_iris\n",
    "import pandas as pd\n",
    "# %%\n",
    "iris = load_iris()\n",
    "\n",
    "feature_names = iris.feature_names\n",
    "y = iris.target\n",
    "\n",
    "data = pd.DataFrame(iris.data,columns = feature_names)\n",
    "data[\"sinif\"] = y\n",
    "\n",
    "x = iris.data\n",
    "print(data.info())\n",
    "print(data.head())\n",
    "#print(data.describe())"
   ]
  },
  {
   "cell_type": "code",
   "execution_count": null,
   "id": "01456325",
   "metadata": {
    "execution": {
     "iopub.execute_input": "2023-05-17T11:28:30.187504Z",
     "iopub.status.busy": "2023-05-17T11:28:30.187030Z",
     "iopub.status.idle": "2023-05-17T11:28:30.196836Z",
     "shell.execute_reply": "2023-05-17T11:28:30.195522Z",
     "shell.execute_reply.started": "2023-05-17T11:28:30.187461Z"
    },
    "papermill": {
     "duration": null,
     "end_time": null,
     "exception": null,
     "start_time": null,
     "status": "pending"
    },
    "tags": []
   },
   "outputs": [],
   "source": [
    "#%% PCA\n",
    "from sklearn.decomposition import PCA\n",
    "pca = PCA(n_components = 2, whiten= True )  # whitten = normalize\n",
    "pca.fit(x)\n",
    "\n",
    "x_pca = pca.transform(x)\n",
    "\n",
    "print(\"variance ratio: \", pca.explained_variance_ratio_)\n",
    "print(\"sum: \",sum(pca.explained_variance_ratio_))"
   ]
  },
  {
   "cell_type": "code",
   "execution_count": null,
   "id": "ca609196",
   "metadata": {
    "execution": {
     "iopub.execute_input": "2023-05-17T11:28:37.444071Z",
     "iopub.status.busy": "2023-05-17T11:28:37.443687Z",
     "iopub.status.idle": "2023-05-17T11:28:37.736970Z",
     "shell.execute_reply": "2023-05-17T11:28:37.735912Z",
     "shell.execute_reply.started": "2023-05-17T11:28:37.444038Z"
    },
    "papermill": {
     "duration": null,
     "end_time": null,
     "exception": null,
     "start_time": null,
     "status": "pending"
    },
    "tags": []
   },
   "outputs": [],
   "source": [
    "#%% 2D\n",
    "data[\"p1\"] = x_pca[:,0]\n",
    "data[\"p2\"] = x_pca[:,1]\n",
    "\n",
    "color = [\"red\",\"green\",\"blue\"]\n",
    "\n",
    "import matplotlib.pyplot as plt\n",
    "for each in range(3):\n",
    "    plt.scatter(data.p1[data.sinif == each],data.p2[data.sinif == each],color = color[each],label = iris.target_names[each])\n",
    "    \n",
    "plt.legend()\n",
    "plt.xlabel(\"p1\")\n",
    "plt.ylabel(\"p2\")\n",
    "plt.show()"
   ]
  },
  {
   "cell_type": "markdown",
   "id": "80ce7cca",
   "metadata": {
    "papermill": {
     "duration": null,
     "end_time": null,
     "exception": null,
     "start_time": null,
     "status": "pending"
    },
    "tags": []
   },
   "source": [
    "<a class=\"anchor\" id=\"16.\"></a> \n",
    "# Model Selection"
   ]
  },
  {
   "cell_type": "code",
   "execution_count": null,
   "id": "b10b1fde",
   "metadata": {
    "execution": {
     "iopub.execute_input": "2023-05-17T11:28:58.148187Z",
     "iopub.status.busy": "2023-05-17T11:28:58.147194Z",
     "iopub.status.idle": "2023-05-17T11:28:58.168493Z",
     "shell.execute_reply": "2023-05-17T11:28:58.167565Z",
     "shell.execute_reply.started": "2023-05-17T11:28:58.148136Z"
    },
    "papermill": {
     "duration": null,
     "end_time": null,
     "exception": null,
     "start_time": null,
     "status": "pending"
    },
    "tags": []
   },
   "outputs": [],
   "source": [
    "from sklearn.datasets import load_iris\n",
    "import pandas as pd\n",
    "import numpy as np\n",
    "#%%\n",
    "iris = load_iris()\n",
    "x = iris.data\n",
    "y = iris.target\n",
    "\n",
    "data = pd.DataFrame(iris.data,columns = feature_names)\n",
    "data[\"sinif\"] = y\n",
    "\n",
    "print(data.info())\n",
    "print(data.head())\n",
    "#print(data.describe())\n",
    "\n",
    "# %% normalization\n",
    "x = (x-np.min(x))/(np.max(x)-np.min(x))"
   ]
  },
  {
   "cell_type": "code",
   "execution_count": null,
   "id": "d5fb18a0",
   "metadata": {
    "execution": {
     "iopub.execute_input": "2023-05-17T11:29:04.923808Z",
     "iopub.status.busy": "2023-05-17T11:29:04.923429Z",
     "iopub.status.idle": "2023-05-17T11:29:04.977879Z",
     "shell.execute_reply": "2023-05-17T11:29:04.976755Z",
     "shell.execute_reply.started": "2023-05-17T11:29:04.923777Z"
    },
    "papermill": {
     "duration": null,
     "end_time": null,
     "exception": null,
     "start_time": null,
     "status": "pending"
    },
    "tags": []
   },
   "outputs": [],
   "source": [
    "# %% train test split\n",
    "from sklearn.model_selection import train_test_split\n",
    "x_train, x_test, y_train, y_test = train_test_split(x,y,test_size = 0.3)\n",
    "\n",
    "# knn model\n",
    "from sklearn.neighbors import KNeighborsClassifier\n",
    "knn = KNeighborsClassifier(n_neighbors = 13) # n_neighbors = k\n",
    "\n",
    "# %% K fold CV K = 10\n",
    "from sklearn.model_selection import cross_val_score\n",
    "accuracies = cross_val_score(estimator = knn, X = x_train, y= y_train, cv = 10)\n",
    "print(\"average accuracy: \",np.mean(accuracies))\n",
    "print(\"average std: \",np.std(accuracies))\n",
    "\n",
    "knn.fit(x_train,y_train)\n",
    "print(\"test accuracy: \",knn.score(x_test,y_test))"
   ]
  },
  {
   "cell_type": "code",
   "execution_count": null,
   "id": "f96dbbcc",
   "metadata": {
    "execution": {
     "iopub.execute_input": "2023-05-17T11:29:12.942291Z",
     "iopub.status.busy": "2023-05-17T11:29:12.941931Z",
     "iopub.status.idle": "2023-05-17T11:29:14.245116Z",
     "shell.execute_reply": "2023-05-17T11:29:14.243958Z",
     "shell.execute_reply.started": "2023-05-17T11:29:12.942261Z"
    },
    "papermill": {
     "duration": null,
     "end_time": null,
     "exception": null,
     "start_time": null,
     "status": "pending"
    },
    "tags": []
   },
   "outputs": [],
   "source": [
    "#Model Selection  grid search cross validation for knn\n",
    "from sklearn.model_selection import GridSearchCV\n",
    "\n",
    "grid = {\"n_neighbors\":np.arange(1,50)}\n",
    "knn= KNeighborsClassifier()\n",
    "\n",
    "knn_cv = GridSearchCV(knn, grid, cv = 10)  # GridSearchCV\n",
    "knn_cv.fit(x,y)\n",
    "\n",
    "#%% print hyperparameter KNN algoritmasindaki K degeri\n",
    "print(\"tuned hyperparameter K: \",knn_cv.best_params_)\n",
    "print(\"tuned parametreye gore en iyi accuracy (best score): \",knn_cv.best_score_)"
   ]
  },
  {
   "cell_type": "code",
   "execution_count": null,
   "id": "c8238e06",
   "metadata": {
    "execution": {
     "iopub.execute_input": "2023-05-17T11:29:21.676208Z",
     "iopub.status.busy": "2023-05-17T11:29:21.675810Z",
     "iopub.status.idle": "2023-05-17T11:29:22.953908Z",
     "shell.execute_reply": "2023-05-17T11:29:22.952796Z",
     "shell.execute_reply.started": "2023-05-17T11:29:21.676177Z"
    },
    "papermill": {
     "duration": null,
     "end_time": null,
     "exception": null,
     "start_time": null,
     "status": "pending"
    },
    "tags": []
   },
   "outputs": [],
   "source": [
    "#Model Selection  grid search cross validation for knn\n",
    "from sklearn.model_selection import GridSearchCV\n",
    "\n",
    "grid = {\"n_neighbors\":np.arange(1,50)}\n",
    "knn= KNeighborsClassifier()\n",
    "\n",
    "knn_cv = GridSearchCV(knn, grid, cv = 10)  # GridSearchCV\n",
    "knn_cv.fit(x,y)\n",
    "\n",
    "#%% print hyperparameter KNN algoritmasindaki K degeri\n",
    "print(\"tuned hyperparameter K: \",knn_cv.best_params_)\n",
    "print(\"tuned parametreye gore en iyi accuracy (best score): \",knn_cv.best_score_)"
   ]
  },
  {
   "cell_type": "markdown",
   "id": "f61281a1",
   "metadata": {
    "papermill": {
     "duration": null,
     "end_time": null,
     "exception": null,
     "start_time": null,
     "status": "pending"
    },
    "tags": []
   },
   "source": [
    "\n",
    "\n",
    "<a class=\"anchor\" id=\"17.\"></a> \n",
    "# Recommendation Systems"
   ]
  },
  {
   "cell_type": "code",
   "execution_count": null,
   "id": "9d2a29ae",
   "metadata": {
    "execution": {
     "iopub.execute_input": "2023-05-17T11:30:42.644896Z",
     "iopub.status.busy": "2023-05-17T11:30:42.643697Z",
     "iopub.status.idle": "2023-05-17T11:30:42.728711Z",
     "shell.execute_reply": "2023-05-17T11:30:42.727606Z",
     "shell.execute_reply.started": "2023-05-17T11:30:42.644830Z"
    },
    "papermill": {
     "duration": null,
     "end_time": null,
     "exception": null,
     "start_time": null,
     "status": "pending"
    },
    "tags": []
   },
   "outputs": [],
   "source": [
    "import pandas as pd\n",
    "import os\n",
    "print(os.listdir(\"/kaggle/input/movielens-20m-dataset\"))\n",
    "# import movie data set and look at columns\n",
    "movie = pd.read_csv(\"../input/movielens-20m-dataset/movie.csv\")\n",
    "print(movie.columns)\n",
    "movie = movie.loc[:,[\"movieId\",\"title\"]]\n",
    "movie.head(10)"
   ]
  },
  {
   "cell_type": "code",
   "execution_count": null,
   "id": "a71fa667",
   "metadata": {
    "execution": {
     "iopub.execute_input": "2023-05-17T11:30:49.758369Z",
     "iopub.status.busy": "2023-05-17T11:30:49.757973Z",
     "iopub.status.idle": "2023-05-17T11:31:13.394455Z",
     "shell.execute_reply": "2023-05-17T11:31:13.393426Z",
     "shell.execute_reply.started": "2023-05-17T11:30:49.758339Z"
    },
    "papermill": {
     "duration": null,
     "end_time": null,
     "exception": null,
     "start_time": null,
     "status": "pending"
    },
    "tags": []
   },
   "outputs": [],
   "source": [
    "# import rating data and look at columsn\n",
    "rating = pd.read_csv(\"../input/movielens-20m-dataset/rating.csv\")\n",
    "print(rating.columns)\n",
    "# what we need is that user id, movie id and rating\n",
    "rating = rating.loc[:,[\"userId\",\"movieId\",\"rating\"]]\n",
    "rating.head(10)"
   ]
  },
  {
   "cell_type": "code",
   "execution_count": null,
   "id": "4eb819b0",
   "metadata": {
    "execution": {
     "iopub.execute_input": "2023-05-17T11:34:15.896418Z",
     "iopub.status.busy": "2023-05-17T11:34:15.895999Z",
     "iopub.status.idle": "2023-05-17T11:34:20.314148Z",
     "shell.execute_reply": "2023-05-17T11:34:20.312968Z",
     "shell.execute_reply.started": "2023-05-17T11:34:15.896388Z"
    },
    "papermill": {
     "duration": null,
     "end_time": null,
     "exception": null,
     "start_time": null,
     "status": "pending"
    },
    "tags": []
   },
   "outputs": [],
   "source": [
    "# then merge movie and rating data\n",
    "data = pd.merge(movie,rating)\n",
    "# now lets look at our data \n",
    "data.head(10)\n",
    "print(data.shape)\n",
    "data = data.iloc[:1000000,:]\n",
    "# lets make a pivot table in order to make rows are users and columns are movies. And values are rating\n",
    "pivot_table = data.pivot_table(index = [\"userId\"],columns = [\"title\"],values = \"rating\")\n",
    "pivot_table.head(10)"
   ]
  },
  {
   "cell_type": "code",
   "execution_count": null,
   "id": "b77d8cec",
   "metadata": {
    "execution": {
     "iopub.execute_input": "2023-05-17T11:34:23.570851Z",
     "iopub.status.busy": "2023-05-17T11:34:23.570463Z",
     "iopub.status.idle": "2023-05-17T11:34:23.684380Z",
     "shell.execute_reply": "2023-05-17T11:34:23.683208Z",
     "shell.execute_reply.started": "2023-05-17T11:34:23.570817Z"
    },
    "papermill": {
     "duration": null,
     "end_time": null,
     "exception": null,
     "start_time": null,
     "status": "pending"
    },
    "tags": []
   },
   "outputs": [],
   "source": [
    "movie_watched = pivot_table[\"Bad Boys (1995)\"]\n",
    "similarity_with_other_movies = pivot_table.corrwith(movie_watched)  # find correlation between \"Bad Boys (1995)\" and other movies\n",
    "similarity_with_other_movies = similarity_with_other_movies.sort_values(ascending=False)\n",
    "similarity_with_other_movies.head()"
   ]
  }
 ],
 "metadata": {
  "kernelspec": {
   "display_name": "Python 3",
   "language": "python",
   "name": "python3"
  },
  "language_info": {
   "codemirror_mode": {
    "name": "ipython",
    "version": 3
   },
   "file_extension": ".py",
   "mimetype": "text/x-python",
   "name": "python",
   "nbconvert_exporter": "python",
   "pygments_lexer": "ipython3",
   "version": "3.10.10"
  },
  "papermill": {
   "default_parameters": {},
   "duration": 13.355877,
   "end_time": "2023-05-17T11:44:53.281009",
   "environment_variables": {},
   "exception": true,
   "input_path": "__notebook__.ipynb",
   "output_path": "__notebook__.ipynb",
   "parameters": {},
   "start_time": "2023-05-17T11:44:39.925132",
   "version": "2.4.0"
  }
 },
 "nbformat": 4,
 "nbformat_minor": 5
}
